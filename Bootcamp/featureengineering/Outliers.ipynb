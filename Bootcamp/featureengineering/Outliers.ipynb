{
 "cells": [
  {
   "cell_type": "markdown",
   "metadata": {
    "id": "DN8MmJrOrzZL"
   },
   "source": [
    "If your data is bad, your machine learning tools are bad."
   ]
  },
  {
   "cell_type": "markdown",
   "metadata": {},
   "source": [
    "# OUTLIERS (AYKIRI DEGER YAKALAMA)"
   ]
  },
  {
   "cell_type": "code",
   "execution_count": 1,
   "metadata": {
    "scrolled": true
   },
   "outputs": [
    {
     "name": "stdout",
     "output_type": "stream",
     "text": [
      "Requirement already satisfied: missingno in c:\\users\\melih\\anaconda3\\lib\\site-packages (0.5.2)\n",
      "Requirement already satisfied: numpy in c:\\users\\melih\\anaconda3\\lib\\site-packages (from missingno) (1.26.4)\n",
      "Requirement already satisfied: matplotlib in c:\\users\\melih\\anaconda3\\lib\\site-packages (from missingno) (3.9.2)\n",
      "Requirement already satisfied: scipy in c:\\users\\melih\\anaconda3\\lib\\site-packages (from missingno) (1.13.1)\n",
      "Requirement already satisfied: seaborn in c:\\users\\melih\\anaconda3\\lib\\site-packages (from missingno) (0.13.2)\n",
      "Requirement already satisfied: contourpy>=1.0.1 in c:\\users\\melih\\anaconda3\\lib\\site-packages (from matplotlib->missingno) (1.2.0)\n",
      "Requirement already satisfied: cycler>=0.10 in c:\\users\\melih\\anaconda3\\lib\\site-packages (from matplotlib->missingno) (0.11.0)\n",
      "Requirement already satisfied: fonttools>=4.22.0 in c:\\users\\melih\\anaconda3\\lib\\site-packages (from matplotlib->missingno) (4.51.0)\n",
      "Requirement already satisfied: kiwisolver>=1.3.1 in c:\\users\\melih\\anaconda3\\lib\\site-packages (from matplotlib->missingno) (1.4.4)\n",
      "Requirement already satisfied: packaging>=20.0 in c:\\users\\melih\\anaconda3\\lib\\site-packages (from matplotlib->missingno) (24.1)\n",
      "Requirement already satisfied: pillow>=8 in c:\\users\\melih\\anaconda3\\lib\\site-packages (from matplotlib->missingno) (10.4.0)\n",
      "Requirement already satisfied: pyparsing>=2.3.1 in c:\\users\\melih\\anaconda3\\lib\\site-packages (from matplotlib->missingno) (3.1.2)\n",
      "Requirement already satisfied: python-dateutil>=2.7 in c:\\users\\melih\\anaconda3\\lib\\site-packages (from matplotlib->missingno) (2.9.0.post0)\n",
      "Requirement already satisfied: pandas>=1.2 in c:\\users\\melih\\anaconda3\\lib\\site-packages (from seaborn->missingno) (2.2.2)\n",
      "Requirement already satisfied: pytz>=2020.1 in c:\\users\\melih\\anaconda3\\lib\\site-packages (from pandas>=1.2->seaborn->missingno) (2024.1)\n",
      "Requirement already satisfied: tzdata>=2022.7 in c:\\users\\melih\\anaconda3\\lib\\site-packages (from pandas>=1.2->seaborn->missingno) (2023.3)\n",
      "Requirement already satisfied: six>=1.5 in c:\\users\\melih\\anaconda3\\lib\\site-packages (from python-dateutil>=2.7->matplotlib->missingno) (1.16.0)\n"
     ]
    }
   ],
   "source": [
    "# Import libraries\n",
    "!pip install missingno\n",
    "import numpy as np\n",
    "import pandas as pd\n",
    "import matplotlib.pyplot as plt\n",
    "import seaborn as sns\n",
    "import missingno as msno\n",
    "from sklearn.metrics import accuracy_score\n",
    "from sklearn.model_selection import train_test_split\n",
    "from sklearn.neighbors import LocalOutlierFactor\n",
    "from sklearn.preprocessing import MinMaxScaler, LabelEncoder, StandardScaler, RobustScaler"
   ]
  },
  {
   "cell_type": "code",
   "execution_count": 2,
   "metadata": {},
   "outputs": [],
   "source": [
    "pd.set_option(\"display.max_columns\", None)\n",
    "pd.set_option(\"display.max_rows\", None)\n",
    "pd.set_option(\"display.float_format\", lambda x: \"%.3f\" % x)\n",
    "pd.set_option(\"display.width\", 500)"
   ]
  },
  {
   "cell_type": "code",
   "execution_count": 3,
   "metadata": {},
   "outputs": [],
   "source": [
    "# Load and read dataset\n",
    "dataset = sns.load_dataset(\"titanic\")"
   ]
  },
  {
   "cell_type": "code",
   "execution_count": 4,
   "metadata": {},
   "outputs": [
    {
     "data": {
      "image/png": "[encoded data removed]",
      "text/plain": [
       "<Figure size 640x480 with 1 Axes>"
      ]
     },
     "metadata": {},
     "output_type": "display_data"
    }
   ],
   "source": [
    "sns.boxplot(dataset[\"age\"], color=\"purple\")\n",
    "plt.show()"
   ]
  },
  {
   "cell_type": "code",
   "execution_count": 5,
   "metadata": {},
   "outputs": [
    {
     "data": {
      "image/png": "[encoded data removed]",
      "text/plain": [
       "<Figure size 500x500 with 1 Axes>"
      ]
     },
     "metadata": {},
     "output_type": "display_data"
    }
   ],
   "source": [
    "sns.displot(dataset[\"age\"], color=\"green\")\n",
    "plt.show()"
   ]
  },
  {
   "cell_type": "code",
   "execution_count": 6,
   "metadata": {},
   "outputs": [
    {
     "name": "stdout",
     "output_type": "stream",
     "text": [
      "Low limit: -6.6875, Up limit: 64.8125, IQR: 17.875, Quantile (%25): 20.125, Quantile (%75): 38.0\n"
     ]
    }
   ],
   "source": [
    "quantile1 = dataset[\"age\"].quantile(0.25)\n",
    "quantile3 = dataset[\"age\"].quantile(0.75)\n",
    "iqr = quantile3 - quantile1\n",
    "\n",
    "up_limit = quantile3 + 1.5 * iqr\n",
    "low_limit = quantile1 - 1.5 * iqr\n",
    "\n",
    "print(f\"Low limit: {low_limit}, Up limit: {up_limit}, IQR: {iqr}, Quantile (%25): {quantile1}, Quantile (%75): {quantile3}\")"
   ]
  },
  {
   "cell_type": "code",
   "execution_count": 7,
   "metadata": {},
   "outputs": [
    {
     "name": "stdout",
     "output_type": "stream",
     "text": [
      "Empty DataFrame\n",
      "Columns: [survived, pclass, sex, age, sibsp, parch, fare, embarked, class, who, adult_male, deck, embark_town, alive, alone]\n",
      "Index: []\n",
      "\n",
      "--------------------------\n",
      "\n",
      "Index([], dtype='int64')\n",
      "\n",
      "--------------------------\n",
      "\n"
     ]
    }
   ],
   "source": [
    "print(dataset[(dataset[\"age\"] < low_limit)])\n",
    "print(\"\\n--------------------------\\n\")\n",
    "print(dataset[(dataset[\"age\"] < low_limit)].index)\n",
    "print(\"\\n--------------------------\\n\")\n",
    "# print(dataset[(dataset[\"age\"] < low_limit)].any(axis=None))"
   ]
  },
  {
   "cell_type": "code",
   "execution_count": 8,
   "metadata": {},
   "outputs": [
    {
     "name": "stdout",
     "output_type": "stream",
     "text": [
      "     survived  pclass   sex    age  sibsp  parch   fare embarked   class  who  adult_male deck  embark_town alive  alone\n",
      "33          0       2  male 66.000      0      0 10.500        S  Second  man        True  NaN  Southampton    no   True\n",
      "54          0       1  male 65.000      0      1 61.979        C   First  man        True    B    Cherbourg    no  False\n",
      "96          0       1  male 71.000      0      0 34.654        C   First  man        True    A    Cherbourg    no   True\n",
      "116         0       3  male 70.500      0      0  7.750        Q   Third  man        True  NaN   Queenstown    no   True\n",
      "280         0       3  male 65.000      0      0  7.750        Q   Third  man        True  NaN   Queenstown    no   True\n",
      "456         0       1  male 65.000      0      0 26.550        S   First  man        True    E  Southampton    no   True\n",
      "493         0       1  male 71.000      0      0 49.504        C   First  man        True  NaN    Cherbourg    no   True\n",
      "630         1       1  male 80.000      0      0 30.000        S   First  man        True    A  Southampton   yes   True\n",
      "672         0       2  male 70.000      0      0 10.500        S  Second  man        True  NaN  Southampton    no   True\n",
      "745         0       1  male 70.000      1      1 71.000        S   First  man        True    B  Southampton    no  False\n",
      "851         0       3  male 74.000      0      0  7.775        S   Third  man        True  NaN  Southampton    no   True\n",
      "\n",
      "--------------------------\n",
      "\n",
      "Index([33, 54, 96, 116, 280, 456, 493, 630, 672, 745, 851], dtype='int64')\n",
      "\n",
      "--------------------------\n",
      "\n"
     ]
    }
   ],
   "source": [
    "print(dataset[(dataset[\"age\"] > up_limit)])\n",
    "print(\"\\n--------------------------\\n\")\n",
    "print(dataset[(dataset[\"age\"] > up_limit)].index)\n",
    "print(\"\\n--------------------------\\n\")\n",
    "# print(dataset[(dataset[\"age\"] > up_limit)].any(axis=None))"
   ]
  },
  {
   "cell_type": "code",
   "execution_count": 9,
   "metadata": {},
   "outputs": [
    {
     "name": "stdout",
     "output_type": "stream",
     "text": [
      "     survived  pclass   sex    age  sibsp  parch   fare embarked   class  who  adult_male deck  embark_town alive  alone\n",
      "33          0       2  male 66.000      0      0 10.500        S  Second  man        True  NaN  Southampton    no   True\n",
      "54          0       1  male 65.000      0      1 61.979        C   First  man        True    B    Cherbourg    no  False\n",
      "96          0       1  male 71.000      0      0 34.654        C   First  man        True    A    Cherbourg    no   True\n",
      "116         0       3  male 70.500      0      0  7.750        Q   Third  man        True  NaN   Queenstown    no   True\n",
      "280         0       3  male 65.000      0      0  7.750        Q   Third  man        True  NaN   Queenstown    no   True\n",
      "456         0       1  male 65.000      0      0 26.550        S   First  man        True    E  Southampton    no   True\n",
      "493         0       1  male 71.000      0      0 49.504        C   First  man        True  NaN    Cherbourg    no   True\n",
      "630         1       1  male 80.000      0      0 30.000        S   First  man        True    A  Southampton   yes   True\n",
      "672         0       2  male 70.000      0      0 10.500        S  Second  man        True  NaN  Southampton    no   True\n",
      "745         0       1  male 70.000      1      1 71.000        S   First  man        True    B  Southampton    no  False\n",
      "851         0       3  male 74.000      0      0  7.775        S   Third  man        True  NaN  Southampton    no   True\n",
      "\n",
      "--------------------------\n",
      "\n",
      "Index([33, 54, 96, 116, 280, 456, 493, 630, 672, 745, 851], dtype='int64')\n",
      "\n",
      "--------------------------\n",
      "\n"
     ]
    }
   ],
   "source": [
    "print(dataset[(dataset[\"age\"] < low_limit) | (dataset[\"age\"] > up_limit)])\n",
    "print(\"\\n--------------------------\\n\")\n",
    "print(dataset[(dataset[\"age\"] < low_limit) | (dataset[\"age\"] > up_limit)].index)\n",
    "print(\"\\n--------------------------\\n\")\n",
    "# print(dataset[(dataset[\"age\"] < low_limit) | (dataset[\"age\"] > up_limit)].any())"
   ]
  },
  {
   "cell_type": "markdown",
   "metadata": {},
   "source": [
    "Not: Info methodu eger kategorik verilere uygulanmaya calisilirsa hata verir sadece boolean ve sayisal veriler icindir"
   ]
  },
  {
   "cell_type": "code",
   "execution_count": 10,
   "metadata": {},
   "outputs": [],
   "source": [
    "def outlier_tresholds(dataset : str, col_name : str, quantile1 : float = 0.25, quantile3 : float = 0.75):\n",
    "\n",
    "    \"\"\"\n",
    "        Parameters:\n",
    "            dataset,\n",
    "            column name\n",
    "            quantile 1 float default 25\n",
    "            quantile 3 float default 75|\n",
    "\n",
    "\n",
    "        Description:\n",
    "            It helps to calculate low and up limit of your dataset\n",
    "    \"\"\"\n",
    "\n",
    "    dataset_quantile1 = dataset[col_name].quantile(quantile1)\n",
    "    dataset_quantile3 = dataset[col_name].quantile(quantile3)\n",
    "\n",
    "    interquantile_range = dataset_quantile3 - dataset_quantile1\n",
    "\n",
    "    up_limit = dataset_quantile3 + 1.5 * interquantile_range\n",
    "    low_limit = dataset_quantile1 - 1.5 * interquantile_range\n",
    "\n",
    "    return low_limit, up_limit"
   ]
  },
  {
   "cell_type": "code",
   "execution_count": 11,
   "metadata": {},
   "outputs": [
    {
     "data": {
      "text/plain": [
       "(-6.6875, 64.8125)"
      ]
     },
     "execution_count": 11,
     "metadata": {},
     "output_type": "execute_result"
    }
   ],
   "source": [
    "outlier_tresholds(dataset, \"age\")"
   ]
  },
  {
   "cell_type": "code",
   "execution_count": 12,
   "metadata": {},
   "outputs": [],
   "source": [
    "def check_outlier(dataset : str, col_name : str):\n",
    "\n",
    "    \"\"\"\n",
    "        Parameters:\n",
    "            dataset,\n",
    "            column name\n",
    "\n",
    "\n",
    "\n",
    "        Description:\n",
    "            It helps to see outliers\n",
    "    \"\"\"\n",
    "\n",
    "    low, up = outlier_tresholds(dataset, col_name)\n",
    "\n",
    "    if len(dataset[(dataset[col_name] < low) | (dataset[col_name] > up)]) > 0:\n",
    "        return True\n",
    "\n",
    "    else:\n",
    "        return False"
   ]
  },
  {
   "cell_type": "code",
   "execution_count": 13,
   "metadata": {},
   "outputs": [
    {
     "data": {
      "text/plain": [
       "True"
      ]
     },
     "execution_count": 13,
     "metadata": {},
     "output_type": "execute_result"
    }
   ],
   "source": [
    "check_outlier(dataset, \"age\")"
   ]
  },
  {
   "cell_type": "markdown",
   "metadata": {},
   "source": [
    "## Script level grab cols\n",
    "\n",
    "- numeric, numeric but categoric, categoric but cardinal, categoric"
   ]
  },
  {
   "cell_type": "code",
   "execution_count": 14,
   "metadata": {},
   "outputs": [],
   "source": [
    "def grab_col_names(dataframe, cat_th : int = 10, car_th : int = 20):\n",
    "    \"\"\"\n",
    "\n",
    "    Veri setindeki kategorik, numerik ve kategorik fakat kardinal değişkenlerin isimlerini verir.\n",
    "    Not: Kategorik değişkenlerin içerisine numerik görünümlü kategorik değişkenler de dahildir.\n",
    "\n",
    "    Parameters\n",
    "    ------\n",
    "        dataframe: dataframe\n",
    "                Değişken isimleri alınmak istenilen dataframe\n",
    "        cat_th: int, default = 10\n",
    "                numerik fakat kategorik olan değişkenler için sınıf eşik değeri\n",
    "        car_th: int, default = 20\n",
    "                kategorik fakat kardinal değişkenler için sınıf eşik değeri\n",
    "\n",
    "    Returns\n",
    "    ------\n",
    "        cat_cols: list\n",
    "                Kategorik değişken listesi\n",
    "        num_cols: list\n",
    "                Numerik değişken listesi\n",
    "        cat_but_car: list\n",
    "                Kategorik görünümlü kardinal değişken listesi\n",
    "\n",
    "    Examples\n",
    "    ------\n",
    "        import seaborn as sns\n",
    "        df = sns.load_dataset(\"iris\")\n",
    "        print(grab_col_names(df))\n",
    "\n",
    "\n",
    "    Notes\n",
    "    ------\n",
    "        cat_cols + num_cols + cat_but_car = toplam değişken sayısı\n",
    "        num_but_cat cat_cols'un içerisinde.\n",
    "        Return olan 3 liste toplamı toplam değişken sayısına eşittir: cat_cols + num_cols + cat_but_car = değişken sayısı\n",
    "\n",
    "    \"\"\"\n",
    "\n",
    "    # cat_cols, cat_but_car\n",
    "    cat_cols = [col for col in dataframe.columns if dataframe[col].dtypes == \"O\"]\n",
    "    num_but_cat = [col for col in dataframe.columns if dataframe[col].nunique() < cat_th and\n",
    "                   dataframe[col].dtypes != \"O\"]\n",
    "    cat_but_car = [col for col in dataframe.columns if dataframe[col].nunique() > car_th and\n",
    "                   dataframe[col].dtypes == \"O\"]\n",
    "    cat_cols = cat_cols + num_but_cat\n",
    "    cat_cols = [col for col in cat_cols if col not in cat_but_car]\n",
    "\n",
    "    # num_cols\n",
    "    num_cols = [col for col in dataframe.columns if dataframe[col].dtypes != \"O\"]\n",
    "    num_cols = [col for col in num_cols if col not in num_but_cat]\n",
    "\n",
    "    print(f\"Observations: {dataframe.shape[0]}\")\n",
    "    print(f\"Variables: {dataframe.shape[1]}\")\n",
    "    print(f'cat_cols: {len(cat_cols)}')\n",
    "    print(f'num_cols: {len(num_cols)}')\n",
    "    print(f'cat_but_car: {len(cat_but_car)}')\n",
    "    print(f'num_but_cat: {len(num_but_cat)}')\n",
    "    return cat_cols, num_cols, cat_but_car"
   ]
  },
  {
   "cell_type": "code",
   "execution_count": 15,
   "metadata": {},
   "outputs": [
    {
     "name": "stdout",
     "output_type": "stream",
     "text": [
      "Observations: 891\n",
      "Variables: 15\n",
      "cat_cols: 13\n",
      "num_cols: 2\n",
      "cat_but_car: 0\n",
      "num_but_cat: 8\n"
     ]
    }
   ],
   "source": [
    "cat_cols, num_cols, cat_but_car = grab_col_names(dataset)"
   ]
  },
  {
   "cell_type": "code",
   "execution_count": 16,
   "metadata": {},
   "outputs": [
    {
     "data": {
      "text/plain": [
       "(['sex',\n",
       "  'embarked',\n",
       "  'who',\n",
       "  'embark_town',\n",
       "  'alive',\n",
       "  'survived',\n",
       "  'pclass',\n",
       "  'sibsp',\n",
       "  'parch',\n",
       "  'class',\n",
       "  'adult_male',\n",
       "  'deck',\n",
       "  'alone'],\n",
       " ['age', 'fare'],\n",
       " [])"
      ]
     },
     "execution_count": 16,
     "metadata": {},
     "output_type": "execute_result"
    }
   ],
   "source": [
    "cat_cols, num_cols, cat_but_car"
   ]
  },
  {
   "cell_type": "code",
   "execution_count": 17,
   "metadata": {},
   "outputs": [],
   "source": [
    "def grab_outliers(dataframe : str, col_name : str , index=False):\n",
    "    low, up = outlier_tresholds(dataframe, col_name)\n",
    "\n",
    "    if dataframe[((dataframe[col_name] < low) | (dataframe[col_name] > up))].shape[0] > 10:\n",
    "        print(dataframe[col_name].head())\n",
    "        \n",
    "    else:\n",
    "        print(dataframe[((dataframe[col_name] < low) | (dataframe[col_name] > up))])\n",
    "\n",
    "    if index:\n",
    "        outlier_index = dataframe[((dataframe[col_name] < low) | (dataframe[col_name] > up))].index\n",
    "        return outlier_index"
   ]
  },
  {
   "cell_type": "code",
   "execution_count": 18,
   "metadata": {},
   "outputs": [
    {
     "name": "stdout",
     "output_type": "stream",
     "text": [
      "0   22.000\n",
      "1   38.000\n",
      "2   26.000\n",
      "3   35.000\n",
      "4   35.000\n",
      "Name: age, dtype: float64\n"
     ]
    },
    {
     "data": {
      "text/plain": [
       "Index([33, 54, 96, 116, 280, 456, 493, 630, 672, 745, 851], dtype='int64')"
      ]
     },
     "execution_count": 18,
     "metadata": {},
     "output_type": "execute_result"
    }
   ],
   "source": [
    "outliers_index = grab_outliers(dataset, \"age\", True)\n",
    "outliers_index"
   ]
  },
  {
   "cell_type": "code",
   "execution_count": 19,
   "metadata": {},
   "outputs": [
    {
     "name": "stdout",
     "output_type": "stream",
     "text": [
      "0   22.000\n",
      "1   38.000\n",
      "2   26.000\n",
      "3   35.000\n",
      "4   35.000\n",
      "Name: age, dtype: float64\n"
     ]
    }
   ],
   "source": [
    "grab_outliers(dataset, \"age\")"
   ]
  },
  {
   "cell_type": "code",
   "execution_count": null,
   "metadata": {},
   "outputs": [],
   "source": []
  },
  {
   "cell_type": "code",
   "execution_count": null,
   "metadata": {},
   "outputs": [],
   "source": []
  },
  {
   "cell_type": "code",
   "execution_count": null,
   "metadata": {},
   "outputs": [],
   "source": []
  },
  {
   "cell_type": "code",
   "execution_count": null,
   "metadata": {},
   "outputs": [],
   "source": []
  }
 ],
 "metadata": {
  "colab": {
   "authorship_tag": "ABX9TyOHctklha1RRAiWKw67fbs4",
   "provenance": []
  },
  "kernelspec": {
   "display_name": "Python [conda env:base] *",
   "language": "python",
   "name": "conda-base-py"
  },
  "language_info": {
   "codemirror_mode": {
    "name": "ipython",
    "version": 3
   },
   "file_extension": ".py",
   "mimetype": "text/x-python",
   "name": "python",
   "nbconvert_exporter": "python",
   "pygments_lexer": "ipython3",
   "version": "3.12.7"
  }
 },
 "nbformat": 4,
 "nbformat_minor": 4
}
